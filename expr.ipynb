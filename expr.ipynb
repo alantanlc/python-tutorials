{
 "cells": [
  {
   "cell_type": "code",
   "execution_count": 1,
   "metadata": {},
   "outputs": [],
   "source": [
    "class Expr():\n",
    "    \n",
    "    def __init__(l, r):\n",
    "        self.l = l\n",
    "        self.r = r"
   ]
  },
  {
   "cell_type": "code",
   "execution_count": 2,
   "metadata": {},
   "outputs": [],
   "source": [
    "class AddExpr():\n",
    "    \n",
    "    def __init__(l, r):\n",
    "        self.l = l\n",
    "        self.r = r\n",
    "        \n",
    "    def __str__():\n",
    "        return str(l) + \"+\" + str(r)\n",
    "    \n",
    "    def eval():\n",
    "        return l + r"
   ]
  }
 ],
 "metadata": {
  "kernelspec": {
   "display_name": "Python 3",
   "language": "python",
   "name": "python3"
  },
  "language_info": {
   "codemirror_mode": {
    "name": "ipython",
    "version": 3
   },
   "file_extension": ".py",
   "mimetype": "text/x-python",
   "name": "python",
   "nbconvert_exporter": "python",
   "pygments_lexer": "ipython3",
   "version": "3.7.4"
  }
 },
 "nbformat": 4,
 "nbformat_minor": 2
}
