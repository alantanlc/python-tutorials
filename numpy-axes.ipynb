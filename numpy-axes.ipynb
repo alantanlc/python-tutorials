{
 "cells": [
  {
   "cell_type": "markdown",
   "metadata": {},
   "source": [
    "# NUMPY AXES EXPLAINED\n",
    "\n",
    "A tutorial on NumPy axes.\n",
    "\n",
    "Source: [https://www.sharpsightlabs.com/blog/numpy-axes-explained/](https://www.sharpsightlabs.com/blog/numpy-axes-explained/)"
   ]
  },
  {
   "cell_type": "markdown",
   "metadata": {},
   "source": [
    "### NUMPY AXES ARE THE DIRECTIONS ALONG THE ROWS AND COLUMNS\n",
    "\n",
    "Just like coordinate systems, NumPy arrays also have axes. In a 2-dimensional NumPy array, the axes are the _directions_ along the rows and columns.\n",
    "\n",
    "![numpy-axes](https://vrzkj25a871bpq7t1ugcgmn9-wpengine.netdna-ssl.com/wp-content/uploads/2018/11/numpy-arrays-have-axes.png)\n",
    "\n",
    "#### AXIS 0 IS THE DIRECTION ALONG THE ROWS\n",
    "\n",
    "In a NumPy array, axis 0 is the \"first\" axis.\n",
    "\n",
    "Assuming that we're talking about multi-dimensional arrays, axis 0 is the axis that runs downward down the rows.\n",
    "\n",
    "![axis-0](https://vrzkj25a871bpq7t1ugcgmn9-wpengine.netdna-ssl.com/wp-content/uploads/2018/12/numpy-axis0.png)\n",
    "\n",
    "_Keep in mind that this really applies to 2-d arrays and multi-dimensional arrays. 1-dimensional arrays are a bit of a special case._\n",
    "\n",
    "#### AXIS 1 IS THE DIRECTION ALONG THE COLUMNS\n",
    "\n",
    "In a multi-dimensional NumPy array, axis 1 is the second axis.\n",
    "\n",
    "When we're talking about 2-d and multi-dimensional arrays, axis 1 is the axis that runs horizontally across the columns.\n",
    "\n",
    "![axis-1](https://vrzkj25a871bpq7t1ugcgmn9-wpengine.netdna-ssl.com/wp-content/uploads/2018/12/numpy-axis-1.png)\n",
    "\n",
    "_Once again, keep in mind that 1-d arrays work a little differently. Technically, 1-d arrays don't have an axis 1._"
   ]
  },
  {
   "cell_type": "markdown",
   "metadata": {},
   "source": [
    "### IMPORT THE NUMPY MODULE\n",
    "\n",
    "Let's begin by importing the numpy module into our notebook."
   ]
  },
  {
   "cell_type": "code",
   "execution_count": 3,
   "metadata": {},
   "outputs": [],
   "source": [
    "import numpy as np"
   ]
  },
  {
   "cell_type": "markdown",
   "metadata": {},
   "source": [
    "### NUMPY SUM\n",
    "\n",
    "In `np.sum()`, the `axis` parameter control which axis will be _aggregated_.\n",
    "\n",
    "Said differently, the `axis` parameter controls which axis will be _collapsed_.\n",
    "\n",
    "Remember, functions like `sum()`, `mean()`, `min()`, `median()`, and other statistical functions _aggregate_ your data.\n",
    "\n",
    "When you use `np.sum()` on a 1-d array, the result will be a _single_ number.\n",
    "\n",
    "When you use `np.sum()` on a 2-day array with the `axis` parameter, it is going to _collapse_ your 2-d array down to a 1-d array with respect to the `axis` that you specify."
   ]
  },
  {
   "cell_type": "markdown",
   "metadata": {},
   "source": [
    "#### NUMPY SUM WITH AXIS = 0"
   ]
  },
  {
   "cell_type": "code",
   "execution_count": 6,
   "metadata": {},
   "outputs": [
    {
     "data": {
      "text/plain": [
       "array([[0, 1, 2],\n",
       "       [3, 4, 5]])"
      ]
     },
     "execution_count": 6,
     "metadata": {},
     "output_type": "execute_result"
    }
   ],
   "source": [
    "np_array_2d = np.arange(0, 6).reshape([2, 3])\n",
    "np_array_2d"
   ]
  },
  {
   "cell_type": "code",
   "execution_count": 9,
   "metadata": {},
   "outputs": [
    {
     "data": {
      "text/plain": [
       "array([3, 5, 7])"
      ]
     },
     "execution_count": 9,
     "metadata": {},
     "output_type": "execute_result"
    }
   ],
   "source": [
    "np.sum(np_array_2d, axis=0)"
   ]
  },
  {
   "cell_type": "markdown",
   "metadata": {},
   "source": [
    "When we set axis = 0, the __function sums down the columns__. We're _not_ summing accross the rows. We're actually aggregating the data such that we __collapse the rows__... we collapse axis 0.\n",
    "\n",
    "![np-sum-axis-0](https://vrzkj25a871bpq7t1ugcgmn9-wpengine.netdna-ssl.com/wp-content/uploads/2018/12/numpy-axes-np-sum-axis-0.png)"
   ]
  },
  {
   "cell_type": "markdown",
   "metadata": {},
   "source": [
    "#### NUMPY SUM WITH AXIS = 1"
   ]
  },
  {
   "cell_type": "code",
   "execution_count": 10,
   "metadata": {},
   "outputs": [
    {
     "data": {
      "text/plain": [
       "array([ 3, 12])"
      ]
     },
     "execution_count": 10,
     "metadata": {},
     "output_type": "execute_result"
    }
   ],
   "source": [
    "np.sum(np_array_2d, axis=1)"
   ]
  },
  {
   "cell_type": "markdown",
   "metadata": {},
   "source": [
    "When we set axis = 1, the __function sums across the columns__.\n",
    "\n",
    "![np-sum-axis-1](https://vrzkj25a871bpq7t1ugcgmn9-wpengine.netdna-ssl.com/wp-content/uploads/2018/11/numpy-axes-np-sum-axis-1.png)"
   ]
  },
  {
   "cell_type": "markdown",
   "metadata": {},
   "source": [
    "#### NUMPY SUM WITH AXIS = 2"
   ]
  },
  {
   "cell_type": "code",
   "execution_count": 47,
   "metadata": {},
   "outputs": [
    {
     "name": "stdout",
     "output_type": "stream",
     "text": [
      "[[[ 0  1]\n",
      "  [ 2  3]\n",
      "  [ 4  5]]\n",
      "\n",
      " [[ 6  7]\n",
      "  [ 8  9]\n",
      "  [10 11]]] \n",
      "\n",
      "\n",
      "[[ 0  2  4]\n",
      " [ 6  8 10]]\n"
     ]
    }
   ],
   "source": [
    "np_array_3d = np.arange(0, 12).reshape([2, 3, 2])\n",
    "\n",
    "print(np_array_3d, '\\n')\n",
    "\n",
    "print()\n",
    "\n",
    "print(np_array_3d[:,:,0])"
   ]
  },
  {
   "cell_type": "code",
   "execution_count": 46,
   "metadata": {},
   "outputs": [
    {
     "data": {
      "text/plain": [
       "array([[ 1,  5,  9],\n",
       "       [13, 17, 21]])"
      ]
     },
     "execution_count": 46,
     "metadata": {},
     "output_type": "execute_result"
    }
   ],
   "source": [
    "np.sum(np_array_3d, axis=2)"
   ]
  },
  {
   "cell_type": "markdown",
   "metadata": {},
   "source": [
    "### NUMPY CONCATENATE\n",
    "\n",
    "When we use the `axis` parameter with the `np.concatenate()` function, the `axis` parameter defines the axis along which we stack the arrays."
   ]
  },
  {
   "cell_type": "code",
   "execution_count": 16,
   "metadata": {},
   "outputs": [
    {
     "name": "stdout",
     "output_type": "stream",
     "text": [
      "np_array_1s:\n",
      "[[1 1 1]\n",
      " [1 1 1]]\n",
      "(2, 3)\n",
      "\n",
      "np_array_9s:\n",
      "[[9 9 9]\n",
      " [9 9 9]]\n",
      "(2, 3)\n"
     ]
    }
   ],
   "source": [
    "np_array_1s = np.array([[1,1,1],[1,1,1]])\n",
    "np_array_9s = np.array([[9,9,9],[9,9,9]])\n",
    "\n",
    "print('np_array_1s:')\n",
    "print(np_array_1s)\n",
    "print(np_array_1s.shape)\n",
    "print()\n",
    "print('np_array_9s:')\n",
    "print(np_array_9s)\n",
    "print(np_array_9s.shape)"
   ]
  },
  {
   "cell_type": "markdown",
   "metadata": {},
   "source": [
    "#### NUMPY CONCATENATE WITH AXIS = 0"
   ]
  },
  {
   "cell_type": "code",
   "execution_count": 18,
   "metadata": {},
   "outputs": [
    {
     "data": {
      "text/plain": [
       "array([[1, 1, 1],\n",
       "       [1, 1, 1],\n",
       "       [9, 9, 9],\n",
       "       [9, 9, 9]])"
      ]
     },
     "execution_count": 18,
     "metadata": {},
     "output_type": "execute_result"
    }
   ],
   "source": [
    "np.concatenate([np_array_1s, np_array_9s], axis=0)"
   ]
  },
  {
   "cell_type": "markdown",
   "metadata": {},
   "source": [
    "When we use the concatenate function, the `axis` parameter defines the __axis along which we stack the arrays__.\n",
    "\n",
    "So when we set `axis = 0`, we're telling the concatenate function to __stack the two arrays along the rows__. We're specifying that we want to concatenate the arrays along axis 0.\n",
    "\n",
    "![np-concatenate-axis-0](https://vrzkj25a871bpq7t1ugcgmn9-wpengine.netdna-ssl.com/wp-content/uploads/2018/12/explanation_numpy-concatenate-axis-0.png)"
   ]
  },
  {
   "cell_type": "markdown",
   "metadata": {},
   "source": [
    "#### NUMPY CONCATENATE WITH AXIS = 1"
   ]
  },
  {
   "cell_type": "code",
   "execution_count": 19,
   "metadata": {},
   "outputs": [
    {
     "data": {
      "text/plain": [
       "array([[1, 1, 1, 9, 9, 9],\n",
       "       [1, 1, 1, 9, 9, 9]])"
      ]
     },
     "execution_count": 19,
     "metadata": {},
     "output_type": "execute_result"
    }
   ],
   "source": [
    "np.concatenate([np_array_1s, np_array_9s], axis=1)"
   ]
  },
  {
   "cell_type": "markdown",
   "metadata": {},
   "source": [
    "These arrays are 2-dimensional, so they have two axes, axis 0 and axis 1. Axis 1 is the axis that runs _horizontally_ across the columns of the NumPy arrays.\n",
    "\n",
    "When we use NumPy concatenate with `axis = 1`, we are telling `np.concatenate()` to combine these arrays together along axis 1.\n",
    "\n",
    "![np-concatenate-axis-1](https://vrzkj25a871bpq7t1ugcgmn9-wpengine.netdna-ssl.com/wp-content/uploads/2018/12/explanation_numpy-concatenate-axis-1.png)"
   ]
  },
  {
   "cell_type": "markdown",
   "metadata": {},
   "source": [
    "### WARNING: 1-DIMENSIONAL NUMPY ARRAYS WORK DIFFERENTLY\n",
    "\n",
    "The important thing to know is that 1-dimensional NumPy arrays only have one axis, which is axis 0."
   ]
  },
  {
   "cell_type": "code",
   "execution_count": 22,
   "metadata": {},
   "outputs": [
    {
     "name": "stdout",
     "output_type": "stream",
     "text": [
      "np_array_1s_1dim:\n",
      "[1 1 1]\n",
      "(3,)\n",
      "\n",
      "np_array_9s_1dim:\n",
      "[9 9 9]\n",
      "(3,)\n"
     ]
    }
   ],
   "source": [
    "np_array_1s_1dim = np.array([1, 1, 1])\n",
    "np_array_9s_1dim = np.array([9, 9, 9])\n",
    "\n",
    "print('np_array_1s_1dim:')\n",
    "print(np_array_1s_1dim)\n",
    "print(np_array_1s_1dim.shape)\n",
    "print()\n",
    "print('np_array_9s_1dim:')\n",
    "print(np_array_9s_1dim)\n",
    "print(np_array_9s_1dim.shape)"
   ]
  },
  {
   "cell_type": "code",
   "execution_count": 23,
   "metadata": {},
   "outputs": [
    {
     "data": {
      "text/plain": [
       "array([1, 1, 1, 9, 9, 9])"
      ]
     },
     "execution_count": 23,
     "metadata": {},
     "output_type": "execute_result"
    }
   ],
   "source": [
    "np.concatenate([np_array_1s_1dim, np_array_9s_1dim], axis=0)"
   ]
  },
  {
   "cell_type": "markdown",
   "metadata": {},
   "source": [
    "For 1-dimensional NumPy arrays, the arrays are concatenated together _horizontally_.\n",
    "\n",
    "This is different from how the function works on 2-dimensional arrays."
   ]
  },
  {
   "cell_type": "markdown",
   "metadata": {},
   "source": [
    "#### EXAMPLE: AN ERROR WHEN CONCATENATING 1-D ARRAYS, WITH AXIS = 1\n",
    "\n",
    "This code causes an error as 1-d NumPy arrays don't have axis 1."
   ]
  },
  {
   "cell_type": "code",
   "execution_count": 24,
   "metadata": {},
   "outputs": [
    {
     "ename": "AxisError",
     "evalue": "axis 1 is out of bounds for array of dimension 1",
     "output_type": "error",
     "traceback": [
      "\u001b[0;31m---------------------------------------------------------------------------\u001b[0m",
      "\u001b[0;31mAxisError\u001b[0m                                 Traceback (most recent call last)",
      "\u001b[0;32m<ipython-input-24-b1525b3483fb>\u001b[0m in \u001b[0;36m<module>\u001b[0;34m\u001b[0m\n\u001b[0;32m----> 1\u001b[0;31m \u001b[0mnp\u001b[0m\u001b[0;34m.\u001b[0m\u001b[0mconcatenate\u001b[0m\u001b[0;34m(\u001b[0m\u001b[0;34m[\u001b[0m\u001b[0mnp_array_1s_1dim\u001b[0m\u001b[0;34m,\u001b[0m \u001b[0mnp_array_9s_1dim\u001b[0m\u001b[0;34m]\u001b[0m\u001b[0;34m,\u001b[0m \u001b[0maxis\u001b[0m\u001b[0;34m=\u001b[0m\u001b[0;36m1\u001b[0m\u001b[0;34m)\u001b[0m\u001b[0;34m\u001b[0m\u001b[0;34m\u001b[0m\u001b[0m\n\u001b[0m",
      "\u001b[0;32m<__array_function__ internals>\u001b[0m in \u001b[0;36mconcatenate\u001b[0;34m(*args, **kwargs)\u001b[0m\n",
      "\u001b[0;31mAxisError\u001b[0m: axis 1 is out of bounds for array of dimension 1"
     ]
    }
   ],
   "source": [
    "np.concatenate([np_array_1s_1dim, np_array_9s_1dim], axis=1)"
   ]
  },
  {
   "cell_type": "code",
   "execution_count": null,
   "metadata": {},
   "outputs": [],
   "source": []
  }
 ],
 "metadata": {
  "kernelspec": {
   "display_name": "Python 3",
   "language": "python",
   "name": "python3"
  },
  "language_info": {
   "codemirror_mode": {
    "name": "ipython",
    "version": 3
   },
   "file_extension": ".py",
   "mimetype": "text/x-python",
   "name": "python",
   "nbconvert_exporter": "python",
   "pygments_lexer": "ipython3",
   "version": "3.7.4"
  }
 },
 "nbformat": 4,
 "nbformat_minor": 2
}
